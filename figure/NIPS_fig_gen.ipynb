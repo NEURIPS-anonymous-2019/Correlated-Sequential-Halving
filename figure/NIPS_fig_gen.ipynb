{
 "cells": [
  {
   "cell_type": "code",
   "execution_count": 268,
   "metadata": {},
   "outputs": [],
   "source": [
    "%matplotlib inline\n",
    "import numpy as np\n",
    "import matplotlib.pyplot as plt\n",
    "import imp, os, pickle, time, tables\n",
    "import scipy.sparse as sp_sparse\n",
    "from sklearn.metrics.pairwise import pairwise_distances\n",
    "import seaborn as sns\n",
    "import scipy.stats\n",
    "\n",
    "from matplotlib import rcParams\n",
    "\n",
    "params = {\n",
    "   'axes.labelsize': 16,\n",
    "   'font.size': 16,\n",
    "   'legend.fontsize': 10,\n",
    "   'xtick.labelsize': 13,\n",
    "   'ytick.labelsize': 13,\n",
    "   'text.usetex': False,\n",
    "   'text.usetex': False,\n",
    "   }\n",
    "rcParams.update(params)\n",
    "\n",
    "sns.set(font_scale = 2)\n",
    "sns.set(style=\"whitegrid\")\n"
   ]
  },
  {
   "cell_type": "code",
   "execution_count": 269,
   "metadata": {},
   "outputs": [],
   "source": []
  },
  {
   "cell_type": "code",
   "execution_count": null,
   "metadata": {},
   "outputs": [],
   "source": []
  },
  {
   "cell_type": "code",
   "execution_count": null,
   "metadata": {},
   "outputs": [],
   "source": []
  },
  {
   "cell_type": "code",
   "execution_count": 331,
   "metadata": {},
   "outputs": [
    {
     "name": "stdout",
     "output_type": "stream",
     "text": [
      "1000\n",
      "959.1896900498867\n"
     ]
    }
   ],
   "source": [
    "rand_folder = '../experiments/NIPS2019sim/netflix100k/rand//'\n",
    "num_files = len(os.listdir(rand_folder))\n",
    "print(num_files)\n",
    "\n",
    "num_pullsArr = 0\n",
    "accuracyArr = 0\n",
    "\n",
    "\n",
    "# best_arm = 103077 #rnaseq100k\n",
    "# best_arm = 7374 #rnaseq20k\n",
    "best_arm = 11370 #netflix20k\n",
    "# best_arm = 11370 #netflix100k\n",
    "# best_arm = 3368 #mnist\n",
    "\n",
    "\n",
    "\n",
    "time_arr = []\n",
    "row_iter = 0\n",
    "for flname in os.listdir(rand_folder):\n",
    "    with open(rand_folder+flname,'rb') as f:\n",
    "        \n",
    "        x=pickle.load(f, encoding='latin1')\n",
    "        correct = np.equal(x[0],best_arm)*1.0\n",
    "\n",
    "        if accuracyArr is 0:\n",
    "            accuracyArr = np.ones((num_files,len(x[0])))\n",
    "        \n",
    "        accuracyArr[row_iter] = correct\n",
    "        num_pullsArr = x[1]\n",
    "        time_arr.append(x[2][-1])\n",
    "        row_iter +=1\n",
    "\n",
    "randPulls = num_pullsArr\n",
    "randError = 1-accuracyArr.mean(axis=0)\n",
    "print(np.mean(time_arr))"
   ]
  },
  {
   "cell_type": "code",
   "execution_count": 332,
   "metadata": {
    "scrolled": true
   },
   "outputs": [
    {
     "name": "stdout",
     "output_type": "stream",
     "text": [
      "1000\n"
     ]
    }
   ],
   "source": [
    "meddit_folder = '../experiments/NIPS2019sim/netflix100k/meddit_1init////'\n",
    "num_files = len(os.listdir(meddit_folder))\n",
    "print(num_files)\n",
    "totalPullsNeededArr = []\n",
    "pullsNeededRef = []\n",
    "m=5000\n",
    "accuracyArr = np.ones((num_files,m))\n",
    "time_arr = []\n",
    "\n",
    "# best_arm = 103077 #rnaseq100k\n",
    "# best_arm = 7374 #rnaseq20k\n",
    "# best_arm = 11370 #netflix20k\n",
    "# best_arm = 3368 #mnist\n",
    "# best_arm = 11370 #netflix100k\n",
    "\n",
    "\n",
    "\n",
    "row_iter = 0\n",
    "for flname in os.listdir(meddit_folder):\n",
    "    with open(meddit_folder+flname,'rb') as f:\n",
    "\n",
    "        x=pickle.load(f, encoding='latin1')\n",
    "        pulls = x[1]\n",
    "        if len(pulls) > len(pullsNeededRef):\n",
    "            pullsNeededRef = pulls\n",
    "        totalPullsNeededArr.append(pulls[-1])\n",
    "\n",
    "        correct = np.equal(x[0],best_arm)*1.0\n",
    "        accuracyArr[row_iter,:len(correct)] = correct\n",
    "        accuracyArr[row_iter,len(correct):] = correct[-1]\n",
    "\n",
    "        time_arr.append(x[2])\n",
    "        row_iter +=1\n",
    "\n",
    "medditPulls = pullsNeededRef\n",
    "medditError = 1-accuracyArr.mean(axis=0)[:len(pullsNeededRef)]\n",
    "print(np.average(totalPullsNeededArr), np.mean(time_arr), np.median(time_arr))"
   ]
  },
  {
   "cell_type": "code",
   "execution_count": 333,
   "metadata": {},
   "outputs": [
    {
     "name": "stdout",
     "output_type": "stream",
     "text": [
      "13000\n",
      "0.0 1000 [7.70000000e-02 2.03705659e+00 4.73280302e+01 4.84157180e+04]\n",
      "Using 2.037 pulls -> 0.077 accuracy\n",
      "2.0 1000 [9.59000000e-01 3.35296883e+00 5.06679627e+01 1.33066320e+04]\n",
      "Using 3.353 pulls -> 0.959 accuracy\n",
      "4.0 1000 [9.75000000e-01 4.90376557e+00 5.32779815e+01 1.24889900e+04]\n",
      "Using 4.904 pulls -> 0.975 accuracy\n",
      "6.0 1000 [9.85000000e-01 6.56370350e+00 5.50391043e+01 1.19026020e+04]\n",
      "Using 6.564 pulls -> 0.985 accuracy\n",
      "8.0 1000 [9.91000000e-01 8.23943143e+00 5.69168731e+01 1.16777380e+04]\n",
      "Using 8.239 pulls -> 0.991 accuracy\n",
      "10.0 1000 [9.92000000e-01 1.01180996e+01 5.88954889e+01 1.17327870e+04]\n",
      "Using 10.118 pulls -> 0.992 accuracy\n",
      "12.0 1000 [9.92000000e-01 1.17939575e+01 6.05321055e+01 1.17729790e+04]\n",
      "Using 11.794 pulls -> 0.992 accuracy\n",
      "14.0 1000 [9.96000000e-01 1.37040568e+01 6.17975416e+01 1.15164120e+04]\n",
      "Using 13.704 pulls -> 0.996 accuracy\n",
      "15.0 1000 [9.96000000e-01 1.46005014e+01 5.10066802e+01 1.15164120e+04]\n",
      "Using 14.601 pulls -> 0.996 accuracy\n",
      "16.0 1000 [9.96000000e-01 1.53796047e+01 6.35302446e+01 1.15164120e+04]\n",
      "Using 15.380 pulls -> 0.996 accuracy\n",
      "17.0 1000 [9.99000000e-01 1.69021559e+01 5.27442290e+01 1.14367470e+04]\n",
      "Using 16.902 pulls -> 0.999 accuracy\n",
      "19.0 1000 [1.00000000e+00 1.84674569e+01 5.34271514e+01 1.13700000e+04]\n",
      "Using 18.467 pulls -> 1.000 accuracy\n",
      "21.0 1000 [1.00000000e+00 2.01437449e+01 5.37212871e+01 1.13700000e+04]\n",
      "Using 20.144 pulls -> 1.000 accuracy\n"
     ]
    }
   ],
   "source": [
    "mab_folder = '../experiments/NIPS2019sim/netflix100k/correlated_SH/'\n",
    "print(len(os.listdir(mab_folder)))\n",
    "\n",
    "# best_arm = 103077 #rnaseq100k\n",
    "# best_arm = 7374 #rnaseq20k\n",
    "# best_arm = 11370 #netflix20k\n",
    "# best_arm = 11370 #netflix100k\n",
    "# best_arm = 9658 #rand_gaussian\n",
    "# best_arm = 3368 #mnist\n",
    "# best_arm = 17094 #rand_gaussian2\n",
    "\n",
    "ctr = 0\n",
    "arrs = {}\n",
    "for flname in os.listdir(mab_folder):\n",
    "    \n",
    "    with open(mab_folder+flname,'rb') as f:\n",
    "        x=pickle.load(f, encoding='latin1')\n",
    "        x[0] = np.equal(x[0],best_arm)*1.0\n",
    "        num_pulls = float(flname.split(\"_\")[0])\n",
    "        ctr +=1\n",
    "        if num_pulls in arrs:\n",
    "            arrs[num_pulls] = np.vstack((arrs[num_pulls], x))\n",
    "        else:\n",
    "            arrs[num_pulls] = np.array(x)\n",
    "\n",
    "\n",
    "arrs_avg = {}\n",
    "corrSH_accuracy = []\n",
    "timing = []\n",
    "std_dev = []\n",
    "largeScale_num_pulls_fake = np.sort(list(arrs.keys()))\n",
    "corrSH_num_pulls = []\n",
    "corrSH_time = []\n",
    "# for key,value in arrs.iteritems():\n",
    "for key in largeScale_num_pulls_fake:\n",
    "    value = arrs[key]\n",
    "    val = value.mean(axis = 0)\n",
    "#     print(key, len(value), val)\n",
    "    print(\"Using {:.3F} pulls -> {:.3F} accuracy\".format(val[1],val[0]))\n",
    "\n",
    "    corrSH_accuracy.append(1.0 - val[0])\n",
    "    corrSH_num_pulls.append(val[1])\n",
    "    arrs_avg[key] = val\n",
    "    std_dev.append(np.std(value[:,0]))\n",
    "    corrSH_time.append(val[2])"
   ]
  },
  {
   "cell_type": "code",
   "execution_count": 336,
   "metadata": {},
   "outputs": [
    {
     "data": {
      "image/png": "[encoded data removed]",
      "text/plain": [
       "<Figure size 432x288 with 1 Axes>"
      ]
     },
     "metadata": {},
     "output_type": "display_data"
    }
   ],
   "source": [
    "plt.figure() #figsize=(10,10)\n",
    "plt.axvline(x=100000, color='g', linestyle = '-.', label='exact') #109140\n",
    "plt.plot(randPulls, randError, label = 'rand')\n",
    "plt.plot(medditPulls, medditError, label = 'meddit')\n",
    "plt.plot(corrSH_num_pulls, np.array(corrSH_accuracy), '--ro', label = 'corrSH')\n",
    "plt.yscale(\"log\")\n",
    "plt.xscale(\"log\")\n",
    "plt.ylabel(\"Error probability\")\n",
    "plt.xlabel(\"Number of Pulls needed\")\n",
    "plt.legend(bbox_to_anchor = (.64,.95))\n",
    "# plt.legend(bbox_to_anchor = (.64,.85))\n",
    "plt.savefig(\"plots/NIPS_may22/netflix100k.pdf\")"
   ]
  },
  {
   "cell_type": "code",
   "execution_count": null,
   "metadata": {},
   "outputs": [],
   "source": []
  },
  {
   "cell_type": "code",
   "execution_count": null,
   "metadata": {},
   "outputs": [],
   "source": []
  },
  {
   "cell_type": "code",
   "execution_count": null,
   "metadata": {},
   "outputs": [],
   "source": []
  },
  {
   "cell_type": "code",
   "execution_count": null,
   "metadata": {},
   "outputs": [],
   "source": []
  },
  {
   "cell_type": "code",
   "execution_count": 1,
   "metadata": {},
   "outputs": [],
   "source": [
    "with open('../experiments/NIPS2019sim/rnaseq20k/brute/dists_default.pkl','rb') as f:\n",
    "    dRNA=pickle.load(f, encoding = 'latin1')"
   ]
  },
  {
   "cell_type": "code",
   "execution_count": 905,
   "metadata": {},
   "outputs": [
    {
     "name": "stdout",
     "output_type": "stream",
     "text": [
      "17094\n"
     ]
    }
   ],
   "source": [
    "\n",
    "d = dRNA\n",
    "medoid=np.argmin(d.mean(axis=1))\n",
    "print(medoid)\n",
    "n=d.shape[0]\n",
    "Deltas = d.mean(axis=1) - d.mean(axis=1)[medoid]\n",
    "\n",
    "numSamples= 2000000\n",
    "randInd = np.random.randint(0,n, (numSamples,4))"
   ]
  },
  {
   "cell_type": "code",
   "execution_count": 908,
   "metadata": {},
   "outputs": [
    {
     "name": "stdout",
     "output_type": "stream",
     "text": [
      "1.7294254790309969\n"
     ]
    }
   ],
   "source": [
    "randStd = np.std(d)\n",
    "print(randStd)"
   ]
  },
  {
   "cell_type": "code",
   "execution_count": 909,
   "metadata": {
    "scrolled": true
   },
   "outputs": [
    {
     "name": "stdout",
     "output_type": "stream",
     "text": [
      "0\n",
      "1000\n",
      "2000\n",
      "3000\n",
      "4000\n",
      "5000\n",
      "6000\n",
      "7000\n",
      "8000\n",
      "9000\n",
      "10000\n",
      "11000\n",
      "12000\n",
      "13000\n",
      "14000\n",
      "15000\n",
      "16000\n",
      "17000\n",
      "18000\n",
      "19000\n"
     ]
    }
   ],
   "source": [
    "trueStds = []\n",
    "rhos = []\n",
    "for i in range(n):\n",
    "    if i%1000==0:\n",
    "        print(i)\n",
    "    trueDists = d[medoid] - d[i]\n",
    "    \n",
    "    \n",
    "    trueStd = np.std(trueDists)\n",
    "    \n",
    "    \n",
    "    trueStds.append(trueStd)\n",
    "    rhos.append(trueStd/randStd)\n",
    "    \n",
    "trueStds = np.array(trueStds)\n",
    "rhos = np.array(rhos)"
   ]
  },
  {
   "cell_type": "code",
   "execution_count": 80,
   "metadata": {},
   "outputs": [
    {
     "name": "stdout",
     "output_type": "stream",
     "text": [
      "['For dataset netflix20k brute force took 139.335639 sec']\n"
     ]
    }
   ],
   "source": [
    "with open('../experiments/NIPS2019sim/netflix20k/brute/compTime.pkl','rb') as f:\n",
    "    print(pickle.load(f, encoding = 'latin1'))"
   ]
  },
  {
   "cell_type": "code",
   "execution_count": null,
   "metadata": {},
   "outputs": [],
   "source": [
    "with open('../experiments/NIPS2019sim/mnist/brute/dists_default.pkl','rb') as f:\n",
    "    dMNIST=pickle.load(f, encoding = 'latin1')"
   ]
  },
  {
   "cell_type": "code",
   "execution_count": 212,
   "metadata": {},
   "outputs": [
    {
     "data": {
      "image/png": "[encoded data removed]",
      "text/plain": [
       "<Figure size 432x288 with 1 Axes>"
      ]
     },
     "metadata": {},
     "output_type": "display_data"
    }
   ],
   "source": [
    "d = dMNIST\n",
    "vals = np.mean(d, axis = 1)\n",
    "medoid = np.argmin(vals)\n",
    "Deltas = vals - vals[medoid]\n",
    "plt.figure()\n",
    "plt.scatter(np.delete(Deltas,medoid), np.delete(d[medoid],medoid))\n",
    "plt.xlabel(r'$\\Delta_i$')\n",
    "plt.ylabel(r'Distance to Medoid $d(x_1,x_i)$')\n",
    "plt.tight_layout()\n",
    "plt.savefig('plots/NIPS_may22/mnist_deltaVsDistToMedoid.pdf')"
   ]
  },
  {
   "cell_type": "code",
   "execution_count": null,
   "metadata": {},
   "outputs": [],
   "source": []
  },
  {
   "cell_type": "code",
   "execution_count": 254,
   "metadata": {},
   "outputs": [],
   "source": [
    "### rho vs. delta generation\n",
    "\n",
    "d = dRNA20k\n",
    "n = d.shape[0]\n",
    "# idxs = np.random.choice(d.shape[0],size=1000,replace = False)\n",
    "# d = d[idxs][:,idxs]\n",
    "\n",
    "medoid=np.argmin(d.mean(axis=1))\n",
    "medoididx = medoid\n",
    "\n",
    "# minPossible = np.min([ranking[i] for i in idxs])\n",
    "# print(\"achieved {} when {} was best possible\".format(ranking[medoididx], minPossible))\n",
    "\n",
    "deltaEst = d.mean(axis=1) - d[medoid].mean()\n",
    "rhoEst = np.std(d - d[medoid],axis=1)/np.std(d)\n",
    "\n",
    "deltaPlot = np.delete(deltaEst,medoid)\n",
    "rhoPlot = np.delete(rhoEst,medoid)"
   ]
  },
  {
   "cell_type": "code",
   "execution_count": 252,
   "metadata": {},
   "outputs": [
    {
     "data": {
      "text/plain": [
       "Text(0, 0.5, '1/$\\\\rho_i$')"
      ]
     },
     "execution_count": 252,
     "metadata": {},
     "output_type": "execute_result"
    },
    {
     "data": {
      "image/png": "[encoded data removed]",
      "text/plain": [
       "<Figure size 432x288 with 1 Axes>"
      ]
     },
     "metadata": {},
     "output_type": "display_data"
    }
   ],
   "source": [
    "plt.figure()\n",
    "plt.scatter(1.0/deltaPlot,1.0/rhoPlot)\n",
    "plt.xlabel(r'1/$\\Delta_i$')\n",
    "plt.ylabel(r'1/$\\rho_i$')\n",
    "# plt.savefig('plots/NIPS_may22/rhoDelta_MNIST.pdf')"
   ]
  },
  {
   "cell_type": "code",
   "execution_count": 2,
   "metadata": {},
   "outputs": [],
   "source": [
    "arr = (rhoEst/deltaEst)**2\n",
    "arr = np.sort(np.delete(arr,medoid))[::-1]* np.arange(1,n)\n",
    "tilde = max(arr)\n",
    "arr = (1/deltaEst)**2\n",
    "arr = np.sort(np.delete(arr,medoid))[::-1]* np.arange(1,n)\n",
    "reg = max(arr)\n",
    "print(tilde, reg, reg/tilde)"
   ]
  },
  {
   "cell_type": "code",
   "execution_count": null,
   "metadata": {},
   "outputs": [],
   "source": []
  }
 ],
 "metadata": {
  "kernelspec": {
   "display_name": "Python 3",
   "language": "python",
   "name": "python3"
  },
  "language_info": {
   "codemirror_mode": {
    "name": "ipython",
    "version": 3
   },
   "file_extension": ".py",
   "mimetype": "text/x-python",
   "name": "python",
   "nbconvert_exporter": "python",
   "pygments_lexer": "ipython3",
   "version": "3.5.2"
  }
 },
 "nbformat": 4,
 "nbformat_minor": 2
}
